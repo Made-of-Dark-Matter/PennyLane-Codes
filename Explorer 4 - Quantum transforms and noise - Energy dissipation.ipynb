{
 "cells": [
  {
   "cell_type": "code",
   "execution_count": 1,
   "id": "2098eb3f",
   "metadata": {},
   "outputs": [],
   "source": []
  },
  {
   "cell_type": "code",
   "execution_count": 18,
   "id": "3182098f",
   "metadata": {},
   "outputs": [],
   "source": [
    "import functools\n",
    "import json\n",
    "import math\n",
    "import pandas as pd\n",
    "import pennylane as qml\n",
    "import pennylane.numpy as np\n",
    "import scipy\n",
    "import matplotlib.pyplot as plt\n",
    "import numpy as npo"
   ]
  },
  {
   "cell_type": "code",
   "execution_count": 19,
   "id": "a0cef578",
   "metadata": {},
   "outputs": [],
   "source": [
    "def circuit(circuit_param):\n",
    "    qml.RY(circuit_param, wires=0)\n",
    "    qml.Hadamard(wires=0)\n",
    "    qml.T(wires=0)"
   ]
  },
  {
   "cell_type": "code",
   "execution_count": 20,
   "id": "0b48e337",
   "metadata": {},
   "outputs": [],
   "source": [
    "def state_purity(angle, phase, circuit_param, noise_param):\n",
    "\n",
    "    \"\"\"\n",
    "    This function returns the purity of the output state after adding noise\n",
    "    to the given circuit().\n",
    "\n",
    "    Args:\n",
    "        angle (float): The angle theta that parametrizes the initial quantum state\n",
    "        phase (float): The phase phi that parametrizes the initial quantum state\n",
    "        circuit_param (float): The angle that paramterizes the RY rotation in circuit(alpha)\n",
    "        noise_param (float): The angle that paramterizes the CRX gate in the circuit modelling the noise\n",
    "\n",
    "    Returns:\n",
    "        (float): Purity of the state after going through the noisy circuit\n",
    "    \"\"\"\n",
    "\n",
    "    def noise(noise_param, wires):\n",
    "\n",
    "        \"\"\"Implements the circuit that models the noise added after each gate. Do not return anything.\"\"\"\n",
    "\n",
    "        # Put your code here #\n",
    "\n",
    "    dev = qml.device(\"default.mixed\", wires=2)\n",
    "\n",
    "    @qml.qnode(dev)\n",
    "    def noisy_circuit(angle, phase, circuit_param, noise_param):\n",
    "\n",
    "        \"\"\"Implements transformed circuit with state preparation at the beginning, and noise inserted\n",
    "        after each gate.\n",
    "\n",
    "        Returns: Whatever is useful for you to calculate the purity!\"\"\"\n",
    "\n",
    "        # Put your code here #\n",
    "        # Don't forget to prepare the initial state\n",
    "        # If you use a quantum transform to add noise, use it within this circuit\n",
    "\n",
    "    # Feel free to add here any code or helper functions, if you need them.\n",
    "\n",
    "    return  # Return the purity in terms of the calculated expectation values."
   ]
  },
  {
   "cell_type": "code",
   "execution_count": 21,
   "id": "4367031a",
   "metadata": {},
   "outputs": [],
   "source": [
    "# These functions are responsible for testing the solution.\n",
    "\n",
    "def run(test_case_input: str) -> str:\n",
    "\n",
    "    ins = json.loads(test_case_input)\n",
    "    output = state_purity(*ins)\n",
    "\n",
    "    return str(np.real_if_close(output))\n",
    "\n",
    "def check(solution_output: str, expected_output: str) -> None:\n",
    "    \"\"\"\n",
    "    Compare solution with expected.\n",
    "\n",
    "    Args:\n",
    "            solution_output: The output from an evaluated solution. Will be\n",
    "            the same type as returned.\n",
    "            expected_output: The correct result for the test case.\n",
    "\n",
    "    Raises:\n",
    "            ``AssertionError`` if the solution output is incorrect in any way.\n",
    "    \"\"\"\n",
    "\n",
    "    solution_output = json.loads(solution_output)\n",
    "    expected_output = json.loads(expected_output)\n",
    "    assert np.allclose(\n",
    "        solution_output, expected_output, rtol=1e-2\n",
    "    ), \"Your calculated purity isn't quite right.\""
   ]
  },
  {
   "cell_type": "code",
   "execution_count": 22,
   "id": "88bf3597",
   "metadata": {},
   "outputs": [],
   "source": [
    "test_cases = [['[0.1,0.2,0.3,0.4]', '0.9647'], ['[0.5,0.3,0.5,0.7]', '0.928356']]"
   ]
  },
  {
   "cell_type": "code",
   "execution_count": 25,
   "id": "4c12eae0",
   "metadata": {},
   "outputs": [
    {
     "name": "stdout",
     "output_type": "stream",
     "text": [
      "Running test case 0 with input '[0.1,0.2,0.3,0.4]'...\n"
     ]
    },
    {
     "data": {
      "image/png": "[encoded data removed]",
      "text/plain": [
       "<Figure size 1008x216 with 1 Axes>"
      ]
     },
     "metadata": {},
     "output_type": "display_data"
    },
    {
     "name": "stdout",
     "output_type": "stream",
     "text": [
      "Correct!\n",
      "Running test case 1 with input '[0.5,0.3,0.5,0.7]'...\n"
     ]
    },
    {
     "data": {
      "image/png": "[encoded data removed]",
      "text/plain": [
       "<Figure size 1008x216 with 1 Axes>"
      ]
     },
     "metadata": {},
     "output_type": "display_data"
    },
    {
     "name": "stdout",
     "output_type": "stream",
     "text": [
      "Correct!\n"
     ]
    }
   ],
   "source": [
    "for i, (input_, expected_output) in enumerate(test_cases):\n",
    "    print(f\"Running test case {i} with input '{input_}'...\")\n",
    "\n",
    "    try:\n",
    "        output = run(input_)\n",
    "\n",
    "    except Exception as exc:\n",
    "        print(f\"Runtime Error. {exc}\")\n",
    "\n",
    "    else:\n",
    "        if message := check(output, expected_output):\n",
    "            print(f\"Wrong Answer. Have: '{output}'. Want: '{expected_output}'.\")\n",
    "        else:\n",
    "            print(\"Correct!\")"
   ]
  },
  {
   "cell_type": "code",
   "execution_count": null,
   "id": "8d1de511",
   "metadata": {},
   "outputs": [],
   "source": []
  },
  {
   "cell_type": "markdown",
   "id": "a9cfa66f",
   "metadata": {},
   "source": [
    "My implementation - "
   ]
  },
  {
   "cell_type": "code",
   "execution_count": 24,
   "id": "cc2de26f",
   "metadata": {},
   "outputs": [
    {
     "data": {
      "image/png": "[encoded data removed]",
      "text/plain": [
       "<Figure size 1008x216 with 1 Axes>"
      ]
     },
     "metadata": {},
     "output_type": "display_data"
    },
    {
     "name": "stdout",
     "output_type": "stream",
     "text": [
      "result = (0.9677808290535496+0j)\n"
     ]
    }
   ],
   "source": [
    "def state_purity(angle, phase, circuit_param, noise_param):\n",
    "    \n",
    "    def noise(noise_param,wires):\n",
    "        qml.CRX(noise_param, wires = [0,1])\n",
    "        qml.CNOT(wires = [1,0])\n",
    "        \n",
    "    dev = qml.device(\"default.mixed\", wires=2)\n",
    "    \n",
    "    def state_preparation(angle, phase):\n",
    "        qml.RY(angle, wires = 0)\n",
    "        qml.PhaseShift(phase, wires = 0)\n",
    "    \n",
    "    @qml.transforms.insert(noise, [noise_param], position=\"all\")\n",
    "    def circuit(circuit_param):\n",
    "        qml.RY(circuit_param, wires = 0)\n",
    "        qml.Hadamard(wires = 0)\n",
    "        qml.T(wires = 0)\n",
    "        \n",
    "    def trace(rho):\n",
    "        npRho = np.array(rho)\n",
    "        Tr = 0\n",
    "        for i in range(2):\n",
    "            for j in range(2):\n",
    "                Tr += npRho[i][j]*np.conj(npRho[i][j])\n",
    "        return Tr\n",
    "    \n",
    "    @qml.qnode(dev)\n",
    "    def noisy_circuit(angle, phase, circuit_param, noise_param):\n",
    "        state_preparation(angle, phase)\n",
    "        circuit(circuit_param)\n",
    "        return qml.density_matrix(0)\n",
    "    \n",
    "    qml.drawer.use_style('black_white')\n",
    "    fig, ax = qml.draw_mpl(noisy_circuit)(angle, phase, circuit_param, noise_param) \n",
    "    plt.show()\n",
    "    \n",
    "    rho = noisy_circuit(angle,phase,circuit_param, noise_param)\n",
    "    return trace(rho)\n",
    "\n",
    "\n",
    "angle = np.pi/4\n",
    "phase = np.pi/3\n",
    "circuit_param = np.pi/3\n",
    "noise_param = np.pi/4\n",
    "\n",
    "result = state_purity(angle, phase, circuit_param, noise_param)\n",
    "print(f\"result = {result}\")"
   ]
  },
  {
   "cell_type": "code",
   "execution_count": null,
   "id": "5bf1c1b5",
   "metadata": {},
   "outputs": [],
   "source": []
  },
  {
   "cell_type": "code",
   "execution_count": null,
   "id": "07ebd9cf",
   "metadata": {},
   "outputs": [],
   "source": []
  }
 ],
 "metadata": {
  "kernelspec": {
   "display_name": "Python 3 (ipykernel)",
   "language": "python",
   "name": "python3"
  },
  "language_info": {
   "codemirror_mode": {
    "name": "ipython",
    "version": 3
   },
   "file_extension": ".py",
   "mimetype": "text/x-python",
   "name": "python",
   "nbconvert_exporter": "python",
   "pygments_lexer": "ipython3",
   "version": "3.9.7"
  }
 },
 "nbformat": 4,
 "nbformat_minor": 5
}
