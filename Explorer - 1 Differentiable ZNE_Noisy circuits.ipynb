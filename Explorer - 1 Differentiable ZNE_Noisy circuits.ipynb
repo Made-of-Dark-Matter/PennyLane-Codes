{
 "cells": [
  {
   "cell_type": "code",
   "execution_count": 11,
   "id": "815230ed",
   "metadata": {},
   "outputs": [],
   "source": [
    "import functools\n",
    "import json\n",
    "import math\n",
    "import pandas as pd\n",
    "import pennylane as qml\n",
    "import pennylane.numpy as np\n",
    "import scipy"
   ]
  },
  {
   "cell_type": "code",
   "execution_count": 12,
   "id": "3733bcd4",
   "metadata": {},
   "outputs": [],
   "source": [
    "dev = qml.device(\"default.mixed\", wires=2)\n",
    "\n",
    "@qml.qnode(dev)\n",
    "def circuit():\n",
    "    \"\"\"An error-less quantum circuit.\n",
    "\n",
    "    Returns:\n",
    "        qml.state():\n",
    "            The quantum state.\n",
    "    \"\"\"\n",
    "    qml.Hadamard(wires=0)\n",
    "    qml.CNOT(wires=[0, 1])\n",
    "    return qml.state()"
   ]
  },
  {
   "cell_type": "code",
   "execution_count": 18,
   "id": "26ab4835",
   "metadata": {},
   "outputs": [],
   "source": [
    "@qml.qnode(dev)\n",
    "def bitflip_circuit(p):\n",
    "    \"\"\"A quantum circuit that contains two bitflip errors.\n",
    "    It is the same circuit as the one above, but with bitflip errors.\n",
    "\n",
    "    Args:\n",
    "        p (float):\n",
    "            The bitflip probability.\n",
    "\n",
    "    Returns:\n",
    "        qml.state():\n",
    "            The quantum state.\n",
    "    \"\"\"\n",
    "    # Put your code here #\n",
    "    qml.Hadamard(wires=0)\n",
    "    qml.CNOT(wires=[0, 1])\n",
    "    qml.BitFlip(p,wires = 0)\n",
    "    qml.BitFlip(p,wires = 1)\n",
    "    \n",
    "    return qml.state()"
   ]
  },
  {
   "cell_type": "code",
   "execution_count": 19,
   "id": "010ecd3c",
   "metadata": {},
   "outputs": [],
   "source": [
    "def fidelities(probs):\n",
    "    fids = np.zeros(len(probs))\n",
    "    for i, p in enumerate(probs):\n",
    "        fid = qml.math.fidelity(bitflip_circuit(p), circuit())\n",
    "        fids[i] = fid\n",
    "    return np.round_(fids, decimals=5).tolist()"
   ]
  },
  {
   "cell_type": "code",
   "execution_count": 20,
   "id": "e3b4f6d2",
   "metadata": {},
   "outputs": [],
   "source": [
    "# These functions are responsible for testing the solution.\n",
    "\n",
    "def run(test_case_input: str) -> str:\n",
    "    probs = json.loads(test_case_input)\n",
    "    fids = fidelities(probs)\n",
    "    return str(fids)\n",
    "\n",
    "def check(solution_output: str, expected_output: str) -> None:\n",
    "    solution_output = json.loads(solution_output)\n",
    "    expected_output = json.loads(expected_output)\n",
    "    assert np.allclose(\n",
    "        solution_output, expected_output, rtol=1e-4\n",
    "    ), \"Your circuit isn't quite right!\""
   ]
  },
  {
   "cell_type": "code",
   "execution_count": 21,
   "id": "4e7667d0",
   "metadata": {},
   "outputs": [],
   "source": [
    "test_cases = [['[0.05, 0.1, 0.15, 0.2, 0.25]', '[0.905, 0.82, 0.745, 0.68, 0.625]']]"
   ]
  },
  {
   "cell_type": "code",
   "execution_count": 22,
   "id": "cb43c88b",
   "metadata": {},
   "outputs": [
    {
     "name": "stdout",
     "output_type": "stream",
     "text": [
      "Running test case 0 with input '[0.05, 0.1, 0.15, 0.2, 0.25]'...\n",
      "Correct!\n"
     ]
    }
   ],
   "source": [
    "for i, (input_, expected_output) in enumerate(test_cases):\n",
    "    print(f\"Running test case {i} with input '{input_}'...\")\n",
    "\n",
    "    try:\n",
    "        output = run(input_)\n",
    "\n",
    "    except Exception as exc:\n",
    "        print(f\"Runtime Error. {exc}\")\n",
    "\n",
    "    else:\n",
    "        if message := check(output, expected_output):\n",
    "            print(f\"Wrong Answer. Have: '{output}'. Want: '{expected_output}'.\")\n",
    "\n",
    "        else:\n",
    "            print(\"Correct!\")"
   ]
  },
  {
   "cell_type": "code",
   "execution_count": null,
   "id": "a41f870e",
   "metadata": {},
   "outputs": [],
   "source": []
  }
 ],
 "metadata": {
  "kernelspec": {
   "display_name": "Python 3 (ipykernel)",
   "language": "python",
   "name": "python3"
  },
  "language_info": {
   "codemirror_mode": {
    "name": "ipython",
    "version": 3
   },
   "file_extension": ".py",
   "mimetype": "text/x-python",
   "name": "python",
   "nbconvert_exporter": "python",
   "pygments_lexer": "ipython3",
   "version": "3.9.7"
  }
 },
 "nbformat": 4,
 "nbformat_minor": 5
}
