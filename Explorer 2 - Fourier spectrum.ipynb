{
 "cells": [
  {
   "cell_type": "code",
   "execution_count": 2,
   "id": "cd137c5a",
   "metadata": {},
   "outputs": [],
   "source": []
  },
  {
   "cell_type": "code",
   "execution_count": null,
   "id": "7fb83ad9",
   "metadata": {},
   "outputs": [],
   "source": []
  },
  {
   "cell_type": "markdown",
   "id": "1f6ce3f0",
   "metadata": {},
   "source": [
    "Cells as given by the challenge - "
   ]
  },
  {
   "cell_type": "code",
   "execution_count": 4,
   "id": "10ffccbf",
   "metadata": {},
   "outputs": [],
   "source": [
    "import functools\n",
    "import json\n",
    "import math\n",
    "import pandas as pd\n",
    "import pennylane as qml\n",
    "import pennylane.numpy as np\n",
    "import scipy\n",
    "import matplotlib.pyplot as plt"
   ]
  },
  {
   "cell_type": "code",
   "execution_count": 11,
   "id": "9c0a23f0",
   "metadata": {},
   "outputs": [],
   "source": [
    "def quantum_model(n, train_params, x, model_type):\n",
    "    \"\"\"\n",
    "    Builds an in-series or parallel quantum model according to the specifications in the problem statement, returning\n",
    "    the expectation value on the first wire.\n",
    "\n",
    "    Args: \n",
    "        n (int): The total number of encoding gates. Assumed to be smaller than,\n",
    "                or equal to, the number of wires (3).\n",
    "        train_params (list(float)): A list of length n + 1, which indicates the rotation parameter characterizing\n",
    "                    the trainable circuit. If the circuit is parallel, only the first two parameters are used.\n",
    "        x (float): A real number representing the input data point.\n",
    "        model_type (str): A string that is \"series\" or \"parallel\", depending on the type of model.  \n",
    "\n",
    "    Returns: \n",
    "        (float): The expectation value of PauliZ measurements on the first wire.\n",
    "    \"\"\" \n",
    "    \n",
    "    num_wires=3\n",
    "\n",
    "    dev = qml.device('default.qubit', wires = num_wires)\n",
    "\n",
    "    # Write any helper functions, such as subcircuits you may use later, here.\n",
    "    def W(theta):\n",
    "        qml.Hadamard(0)\n",
    "        qml.CRX(theta, wires = [0,1])\n",
    "        qml.Hadamard(1)\n",
    "        qml.CRX(theta, wires = [1,2])\n",
    "        qml.Hadamard(2)\n",
    "        qml.CRX(theta, wires = [2,0])\n",
    "    \n",
    "    def S_series(x):\n",
    "        qml.RX(x,wires = 0)\n",
    "\n",
    "    def S_parallel(x,n):\n",
    "        for wire in range(n):\n",
    "            qml.RX(x,wires = wire)\n",
    "            \n",
    "    @qml.qnode(dev)\n",
    "    def circuit(n, train_params, x, model_type):\n",
    "        if model_type == \"parallel\":\n",
    "            # Put your code here #\n",
    "            W(train_params[0])\n",
    "            S_parallel(x,n)\n",
    "            W(train_params[1])\n",
    "        elif model_type == \"series\":\n",
    "            # Put your code here #\n",
    "            for series_num in range(n):\n",
    "                W(train_params[series_num])\n",
    "                S_series(x)\n",
    "            series_num+=1\n",
    "            W(train_params[series_num])\n",
    "        \n",
    "        # Return an expectation value\n",
    "        return qml.expval(qml.PauliZ(0))\n",
    "\n",
    "\n",
    "            \n",
    "    result = float(circuit(n, train_params, x, model_type))\n",
    "    return result\n",
    "\n",
    "    # Finally, return a float, not a numpy tensor. You can do this using the .numpy() method!"
   ]
  },
  {
   "cell_type": "code",
   "execution_count": null,
   "id": "15174dad",
   "metadata": {},
   "outputs": [],
   "source": [
    "# These functions are responsible for testing the solution.\n",
    "\n",
    "def run(test_case_input: str) -> str:\n",
    "\n",
    "    ins = json.loads(test_case_input)\n",
    "    output = quantum_model(*ins)\n",
    "\n",
    "    return str(output)\n",
    "\n",
    "def check(solution_output: str, expected_output: str) -> None:\n",
    "    \"\"\"\n",
    "    Compare solution with expected.\n",
    "\n",
    "    Args:\n",
    "            solution_output: The output from an evaluated solution. Will be\n",
    "            the same type as returned.\n",
    "            expected_output: The correct result for the test case.\n",
    "\n",
    "    Raises: \n",
    "            ``AssertionError`` if the solution output is incorrect in any way.\n",
    "    \"\"\"\n",
    "\n",
    "    solution_output = json.loads(solution_output)\n",
    "    expected_output = json.loads(expected_output)\n",
    "    assert np.allclose(\n",
    "        solution_output, expected_output, rtol=1e-2\n",
    "    ), \"Your circuit doesn't look quite right.\""
   ]
  },
  {
   "cell_type": "code",
   "execution_count": 5,
   "id": "b2822c3c",
   "metadata": {},
   "outputs": [],
   "source": [
    "test_cases = [['[2,[0.4,0.8,1.0],1.2,\"parallel\"]', '0.977856732420062'], ['[3,[0.6,0.7,0.8,1.2],1.3,\"series\"]', '0.37048658401504975']]"
   ]
  },
  {
   "cell_type": "code",
   "execution_count": 6,
   "id": "2eed65f9",
   "metadata": {},
   "outputs": [
    {
     "name": "stdout",
     "output_type": "stream",
     "text": [
      "Running test case 0 with input '[2,[0.4,0.8,1.0],1.2,\"parallel\"]'...\n",
      "Runtime Error. name 'run' is not defined\n",
      "Running test case 1 with input '[3,[0.6,0.7,0.8,1.2],1.3,\"series\"]'...\n",
      "Runtime Error. name 'run' is not defined\n"
     ]
    }
   ],
   "source": [
    "for i, (input_, expected_output) in enumerate(test_cases):\n",
    "    print(f\"Running test case {i} with input '{input_}'...\")\n",
    "\n",
    "    try:\n",
    "        output = run(input_)\n",
    "\n",
    "    except Exception as exc:\n",
    "        print(f\"Runtime Error. {exc}\")\n",
    "\n",
    "    else:\n",
    "        if message := check(output, expected_output):\n",
    "            print(f\"Wrong Answer. Have: '{output}'. Want: '{expected_output}'.\")\n",
    "\n",
    "        else:\n",
    "            print(\"Correct!\")"
   ]
  },
  {
   "cell_type": "code",
   "execution_count": null,
   "id": "479750d5",
   "metadata": {},
   "outputs": [],
   "source": []
  },
  {
   "cell_type": "markdown",
   "id": "25146861",
   "metadata": {},
   "source": [
    "My implementations - "
   ]
  },
  {
   "cell_type": "code",
   "execution_count": 6,
   "id": "dc9ab9ea",
   "metadata": {},
   "outputs": [
    {
     "name": "stdout",
     "output_type": "stream",
     "text": [
      "[2, [0.4, 0.8, 1.0], 1.2, 'parallel'] 0.977856732420062\n",
      "0.0\n",
      "[3, [0.6, 0.7, 0.8, 1.2], 1.3, 'series'] 0.37048658401504975\n",
      "0.0\n"
     ]
    }
   ],
   "source": [
    "def quantum_model1(n, train_params, x, model_type):\n",
    "    \"\"\"\n",
    "    Builds an in-series or parallel quantum model according to the specifications in the problem statement, returning\n",
    "    the expectation value on the first wire.\n",
    "\n",
    "    Args: \n",
    "        n (int): The total number of encoding gates. Assumed to be smaller than,\n",
    "                or equal to, the number of wires (3).\n",
    "        train_params (list(float)): A list of length n + 1, which indicates the rotation parameter characterizing\n",
    "                    the trainable circuit. If the circuit is parallel, only the first two parameters are used.\n",
    "        x (float): A real number representing the input data point.\n",
    "        model_type (str): A string that is \"series\" or \"parallel\", depending on the type of model.  \n",
    "\n",
    "    Returns: \n",
    "        (float): The expectation value of PauliZ measurements on the first wire.\n",
    "    \"\"\" \n",
    "    \n",
    "    num_wires=3\n",
    "\n",
    "    dev = qml.device('default.qubit', wires = num_wires)\n",
    "\n",
    "    def W(theta):\n",
    "        qml.Hadamard(0)\n",
    "        qml.CRX(theta, wires = [0,1])\n",
    "        qml.Hadamard(1)\n",
    "        qml.CRX(theta, wires = [1,2])\n",
    "        qml.Hadamard(2)\n",
    "        qml.CRX(theta, wires = [2,0])\n",
    "    \n",
    "    def S_series(x):\n",
    "        qml.RX(x,wires = 0)\n",
    "\n",
    "    def S_parallel(x,n):\n",
    "        for wire in range(n):\n",
    "            qml.RX(x,wires = wire)\n",
    "\n",
    "    @qml.qnode(dev)\n",
    "    def circuit(n, train_params, x, model_type):\n",
    "        if model_type == \"parallel\":\n",
    "            W(train_params[0])\n",
    "            S_parallel(x,n)\n",
    "            W(train_params[1])\n",
    "        elif model_type == \"series\":\n",
    "            for series_num in range(n):\n",
    "                W(train_params[series_num])\n",
    "                S_series(x)\n",
    "            series_num+=1\n",
    "            W(train_params[series_num])\n",
    "        \n",
    "        return qml.expval(qml.PauliZ(0))\n",
    "    \n",
    "    result = float(circuit(n, train_params, x, model_type))\n",
    "    return result\n",
    "\n",
    "test_cases = [[[2,[0.4,0.8,1.0],1.2,\"parallel\"], 0.977856732420062], [[3,[0.6,0.7,0.8,1.2],1.3,\"series\"], 0.37048658401504975]]\n",
    "    \n",
    "for (input,answer) in test_cases:\n",
    "    print(input, answer)\n",
    "    n = input[0]\n",
    "    train_params = input[1]\n",
    "    x = input[2]\n",
    "    model_type = input[3]\n",
    "    \n",
    "    qm = quantum_model1(n, train_params, x, model_type)\n",
    "    print(qm-answer)"
   ]
  },
  {
   "cell_type": "code",
   "execution_count": 7,
   "id": "e0197de6",
   "metadata": {},
   "outputs": [],
   "source": [
    "def W(theta):\n",
    "    qml.Hadamard(0)\n",
    "    qml.CRX(theta, wires = [0,1])\n",
    "    qml.Hadamard(1)\n",
    "    qml.CRX(theta, wires = [1,2])\n",
    "    qml.Hadamard(2)\n",
    "    qml.CRX(theta, wires = [2,0])\n",
    "    \n",
    "def S_series(x):\n",
    "    qml.RX(x,wires = 0)\n",
    "    \n",
    "def S_parallel(x,n):\n",
    "    for w in range(n):\n",
    "        qml.RX(x,wires = w)"
   ]
  },
  {
   "cell_type": "code",
   "execution_count": null,
   "id": "3cf1ce52",
   "metadata": {},
   "outputs": [],
   "source": []
  },
  {
   "cell_type": "code",
   "execution_count": null,
   "id": "6b8a11b3",
   "metadata": {},
   "outputs": [],
   "source": []
  },
  {
   "cell_type": "code",
   "execution_count": 8,
   "id": "e1bc9476",
   "metadata": {},
   "outputs": [
    {
     "ename": "NameError",
     "evalue": "name 'quantum_model' is not defined",
     "output_type": "error",
     "traceback": [
      "\u001b[0;31m---------------------------------------------------------------------------\u001b[0m",
      "\u001b[0;31mNameError\u001b[0m                                 Traceback (most recent call last)",
      "\u001b[0;32m/var/folders/l7/wngp29c52s1dglkg9_wnynqw0000gn/T/ipykernel_58140/3664160408.py\u001b[0m in \u001b[0;36m<module>\u001b[0;34m\u001b[0m\n\u001b[1;32m     28\u001b[0m test_cases = [['[2,[0.4,0.8,1.0],1.2,\"parallel\"]', '0.977856732420062'], \n\u001b[1;32m     29\u001b[0m               ['[3,[0.6,0.7,0.8,1.2],1.3,\"series\"]', '0.37048658401504975']]\n\u001b[0;32m---> 30\u001b[0;31m \u001b[0mrun\u001b[0m\u001b[0;34m(\u001b[0m\u001b[0;34m'[2,[0.4,0.8,1.0],1.2,\"parallel\"]'\u001b[0m\u001b[0;34m)\u001b[0m\u001b[0;34m\u001b[0m\u001b[0;34m\u001b[0m\u001b[0m\n\u001b[0m",
      "\u001b[0;32m/var/folders/l7/wngp29c52s1dglkg9_wnynqw0000gn/T/ipykernel_58140/3664160408.py\u001b[0m in \u001b[0;36mrun\u001b[0;34m(test_case_input)\u001b[0m\n\u001b[1;32m      3\u001b[0m \u001b[0;32mdef\u001b[0m \u001b[0mrun\u001b[0m\u001b[0;34m(\u001b[0m\u001b[0mtest_case_input\u001b[0m\u001b[0;34m:\u001b[0m \u001b[0mstr\u001b[0m\u001b[0;34m)\u001b[0m \u001b[0;34m->\u001b[0m \u001b[0mstr\u001b[0m\u001b[0;34m:\u001b[0m\u001b[0;34m\u001b[0m\u001b[0;34m\u001b[0m\u001b[0m\n\u001b[1;32m      4\u001b[0m     \u001b[0mins\u001b[0m \u001b[0;34m=\u001b[0m \u001b[0mjson\u001b[0m\u001b[0;34m.\u001b[0m\u001b[0mloads\u001b[0m\u001b[0;34m(\u001b[0m\u001b[0mtest_case_input\u001b[0m\u001b[0;34m)\u001b[0m\u001b[0;34m\u001b[0m\u001b[0;34m\u001b[0m\u001b[0m\n\u001b[0;32m----> 5\u001b[0;31m     \u001b[0moutput\u001b[0m \u001b[0;34m=\u001b[0m \u001b[0mquantum_model\u001b[0m\u001b[0;34m(\u001b[0m\u001b[0;34m*\u001b[0m\u001b[0mins\u001b[0m\u001b[0;34m)\u001b[0m\u001b[0;34m\u001b[0m\u001b[0;34m\u001b[0m\u001b[0m\n\u001b[0m\u001b[1;32m      6\u001b[0m \u001b[0;34m\u001b[0m\u001b[0m\n\u001b[1;32m      7\u001b[0m     \u001b[0;32mreturn\u001b[0m \u001b[0mstr\u001b[0m\u001b[0;34m(\u001b[0m\u001b[0moutput\u001b[0m\u001b[0;34m)\u001b[0m\u001b[0;34m\u001b[0m\u001b[0;34m\u001b[0m\u001b[0m\n",
      "\u001b[0;31mNameError\u001b[0m: name 'quantum_model' is not defined"
     ]
    }
   ],
   "source": [
    "# These functions are responsible for testing the solution.\n",
    "\n",
    "def run(test_case_input: str) -> str:\n",
    "    ins = json.loads(test_case_input)\n",
    "    output = quantum_model(*ins)\n",
    "\n",
    "    return str(output)\n",
    "\n",
    "def check(solution_output: str, expected_output: str) -> None:\n",
    "    \"\"\"\n",
    "    Compare solution with expected.\n",
    "\n",
    "    Args:\n",
    "            solution_output: The output from an evaluated solution. Will be\n",
    "            the same type as returned.\n",
    "            expected_output: The correct result for the test case.\n",
    "\n",
    "    Raises: \n",
    "            ``AssertionError`` if the solution output is incorrect in any way.\n",
    "    \"\"\"\n",
    "\n",
    "    solution_output = json.loads(solution_output)\n",
    "    expected_output = json.loads(expected_output)\n",
    "    assert np.allclose(\n",
    "        solution_output, expected_output, rtol=1e-2\n",
    "    ), \"Your circuit doesn't look quite right.\"\n",
    "    \n",
    "test_cases = [['[2,[0.4,0.8,1.0],1.2,\"parallel\"]', '0.977856732420062'], \n",
    "              ['[3,[0.6,0.7,0.8,1.2],1.3,\"series\"]', '0.37048658401504975']]\n",
    "run('[2,[0.4,0.8,1.0],1.2,\"parallel\"]')"
   ]
  },
  {
   "cell_type": "code",
   "execution_count": 9,
   "id": "0d11982f",
   "metadata": {},
   "outputs": [
    {
     "name": "stdout",
     "output_type": "stream",
     "text": [
      "Running test case 0 with input '[2,[0.4,0.8,1.0],1.2,\"parallel\"]'...\n",
      "Runtime Error. name 'quantum_model' is not defined\n",
      "Running test case 1 with input '[3,[0.6,0.7,0.8,1.2],1.3,\"series\"]'...\n",
      "Runtime Error. name 'quantum_model' is not defined\n"
     ]
    }
   ],
   "source": [
    "for i, (input_, expected_output) in enumerate(test_cases):\n",
    "    print(f\"Running test case {i} with input '{input_}'...\")\n",
    "\n",
    "    try:\n",
    "        output = run(input_)\n",
    "\n",
    "    except Exception as exc:\n",
    "        print(f\"Runtime Error. {exc}\")\n",
    "\n",
    "    else:\n",
    "        if message := check(output, expected_output):\n",
    "            print(f\"Wrong Answer. Have: '{output}'. Want: '{expected_output}'.\")\n",
    "\n",
    "        else:\n",
    "            print(\"Correct!\")"
   ]
  },
  {
   "cell_type": "code",
   "execution_count": 13,
   "id": "38ac8bb0",
   "metadata": {},
   "outputs": [],
   "source": [
    "def quantum_model(n, train_params, x, model_type):\n",
    "    \"\"\"\n",
    "    Builds an in-series or parallel quantum model according to the specifications in the problem statement, returning\n",
    "    the expectation value on the first wire.\n",
    "\n",
    "    Args: \n",
    "        n (int): The total number of encoding gates. Assumed to be smaller than,\n",
    "                or equal to, the number of wires (3).\n",
    "        train_params (list(float)): A list of length n + 1, which indicates the rotation parameter characterizing\n",
    "                    the trainable circuit. If the circuit is parallel, only the first two parameters are used.\n",
    "        x (float): A real number representing the input data point.\n",
    "        model_type (str): A string that is \"series\" or \"parallel\", depending on the type of model.  \n",
    "\n",
    "    Returns: \n",
    "        (float): The expectation value of PauliZ measurements on the first wire.\n",
    "    \"\"\" \n",
    "    \n",
    "    num_wires=3\n",
    "\n",
    "    dev = qml.device('default.qubit', wires = num_wires)\n",
    "\n",
    "    # Write any helper functions, such as subcircuits you may use later, here.\n",
    "    def W(theta, wires):\n",
    "#         print('W',theta,wires)\n",
    "        qml.Hadamard(wires[0])\n",
    "        qml.CRX(theta, wires = [0,1])\n",
    "        qml.Hadamard(wires[1])\n",
    "        qml.CRX(theta, wires = [1,2])\n",
    "        qml.Hadamard(wires[2])\n",
    "        qml.CRX(theta, wires = [2,0])\n",
    "    \n",
    "    def SSeries(x,wires):\n",
    "#         print('SS',x,wires)\n",
    "        qml.RX(x,wires)\n",
    "\n",
    "    def SParallel(x,n,wires):\n",
    "#         print('SP',x,wires)\n",
    "        for wire in range(n):\n",
    "            qml.RX(x,wires = wires[wire])\n",
    "#         feature_vector = [x]*n\n",
    "#         qml.AngleEmbedding(features=feature_vector, wires=range(n), rotation='X')\n",
    "            \n",
    "    @qml.qnode(dev)\n",
    "    def circuit(n, train_params, x, model_type):\n",
    "        if model_type == \"parallel\":\n",
    "            # Put your code here #\n",
    "            W(train_params[0],wires=range(3))\n",
    "            SParallel(x,n,wires = range(n))\n",
    "            W(train_params[1],wires=range(3))\n",
    "        elif model_type == \"series\":\n",
    "            # Put your code here #\n",
    "            for series_num in range(n):\n",
    "                W(train_params[series_num],wires = range(3))\n",
    "                SSeries(x,0)\n",
    "            series_num+=1\n",
    "            W(train_params[series_num],wires = range(3))\n",
    "        \n",
    "        # Return an expectation value\n",
    "        return qml.expval(qml.PauliZ(0))\n",
    "    \n",
    "    result = circuit(n, train_params, x, model_type)\n",
    "    #print circuit\n",
    "    qml.drawer.use_style(\"black_white\")\n",
    "    fig, ax = qml.draw_mpl(circuit)(n, train_params, x, model_type)\n",
    "    plt.show()\n",
    "    print(result)\n",
    "    return result\n",
    "\n",
    "    # Finally, return a float, not a numpy tensor. You can do this using the .numpy() method!\n",
    "    \n",
    "# test_cases = [[[2,[0.4,0.8,1.0],1.2,\"parallel\"], 0.977856732420062], \n",
    "#                   ['[3,[0.6,0.7,0.8,1.2],1.3,\"series\"]', '0.37048658401504975']\n",
    "#                  ,[3,[0.6,0.7,0.8,1.2],1.3,\"series\"],0.37048658401504975]\n",
    "\n",
    "# for (input,answer) in test_cases:\n",
    "#     print(input, answer)\n",
    "#     n = input[0]\n",
    "#     train_params = input[1]\n",
    "#     x = input[2]\n",
    "#     model_type = input[3]\n",
    "    \n",
    "#     qm = quantum_model(n, train_params, x, model_type)\n",
    "#     print(qm-answer)"
   ]
  },
  {
   "cell_type": "code",
   "execution_count": 14,
   "id": "55dbe6df",
   "metadata": {},
   "outputs": [
    {
     "data": {
      "image/png": "[encoded data removed]",
      "text/plain": [
       "<Figure size 1152x288 with 1 Axes>"
      ]
     },
     "metadata": {},
     "output_type": "display_data"
    },
    {
     "name": "stdout",
     "output_type": "stream",
     "text": [
      "0.977856732420062\n"
     ]
    },
    {
     "data": {
      "image/png": "[encoded data removed]",
      "text/plain": [
       "<Figure size 2160x288 with 1 Axes>"
      ]
     },
     "metadata": {},
     "output_type": "display_data"
    },
    {
     "name": "stdout",
     "output_type": "stream",
     "text": [
      "0.37048658401504975\n"
     ]
    },
    {
     "data": {
      "text/plain": [
       "'0.37048658401504975'"
      ]
     },
     "execution_count": 14,
     "metadata": {},
     "output_type": "execute_result"
    }
   ],
   "source": [
    "# These functions are responsible for testing the solution.\n",
    "\n",
    "def run(test_case_input: str) -> str:\n",
    "    ins = json.loads(test_case_input)\n",
    "    output = quantum_model(*ins)\n",
    "\n",
    "    return str(output)\n",
    "\n",
    "def check(solution_output: str, expected_output: str) -> None:\n",
    "    \"\"\"\n",
    "    Compare solution with expected.\n",
    "\n",
    "    Args:\n",
    "            solution_output: The output from an evaluated solution. Will be\n",
    "            the same type as returned.\n",
    "            expected_output: The correct result for the test case.\n",
    "\n",
    "    Raises: \n",
    "            ``AssertionError`` if the solution output is incorrect in any way.\n",
    "    \"\"\"\n",
    "\n",
    "    solution_output = json.loads(solution_output)\n",
    "    expected_output = json.loads(expected_output)\n",
    "    assert np.allclose(\n",
    "        solution_output, expected_output, rtol=1e-2\n",
    "    ), \"Your circuit doesn't look quite right.\"\n",
    "    \n",
    "test_cases = [['[2,[0.4,0.8,1.0],1.2,\"parallel\"]', '0.977856732420062'], \n",
    "              ['[3,[0.6,0.7,0.8,1.2],1.3,\"series\"]', '0.37048658401504975']]\n",
    "run('[2,[0.4,0.8,1.0],1.2,\"parallel\"]')\n",
    "run('[3,[0.6,0.7,0.8,1.2],1.3,\"series\"]')"
   ]
  },
  {
   "cell_type": "code",
   "execution_count": null,
   "id": "cd0669ab",
   "metadata": {},
   "outputs": [],
   "source": []
  },
  {
   "cell_type": "code",
   "execution_count": null,
   "id": "78f8ba6d",
   "metadata": {},
   "outputs": [],
   "source": []
  },
  {
   "cell_type": "code",
   "execution_count": null,
   "id": "12c6946e",
   "metadata": {},
   "outputs": [],
   "source": []
  },
  {
   "cell_type": "code",
   "execution_count": null,
   "id": "0f45b4f0",
   "metadata": {},
   "outputs": [],
   "source": []
  }
 ],
 "metadata": {
  "kernelspec": {
   "display_name": "Python 3 (ipykernel)",
   "language": "python",
   "name": "python3"
  },
  "language_info": {
   "codemirror_mode": {
    "name": "ipython",
    "version": 3
   },
   "file_extension": ".py",
   "mimetype": "text/x-python",
   "name": "python",
   "nbconvert_exporter": "python",
   "pygments_lexer": "ipython3",
   "version": "3.9.7"
  }
 },
 "nbformat": 4,
 "nbformat_minor": 5
}
